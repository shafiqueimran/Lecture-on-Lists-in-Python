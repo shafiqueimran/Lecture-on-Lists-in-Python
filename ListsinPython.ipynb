{
 "cells": [
  {
   "cell_type": "markdown",
   "id": "27bd3c21",
   "metadata": {},
   "source": [
    "# Lists in Python"
   ]
  },
  {
   "cell_type": "markdown",
   "id": "6be76a82",
   "metadata": {},
   "source": [
    "### A list in Python is a versatile data structure that allows you to store an ordered collection of items, which can be of different types (integers, strings, floats, or even other lists). Lists are mutable, meaning that you can change their content without changing their identity."
   ]
  },
  {
   "cell_type": "markdown",
   "id": "249a1beb",
   "metadata": {},
   "source": [
    "# Key Characteristics of Lists:"
   ]
  },
  {
   "cell_type": "markdown",
   "id": "8578db3a",
   "metadata": {},
   "source": [
    "## 1. Ordered: Items in a list are stored in a specific order, and this order is preserved."
   ]
  },
  {
   "cell_type": "markdown",
   "id": "75e47e1b",
   "metadata": {},
   "source": [
    "## 2. Mutable: The items in a list can be modified, added, or removed after the list has been created."
   ]
  },
  {
   "cell_type": "markdown",
   "id": "3d95cfbf",
   "metadata": {},
   "source": [
    "## 3. Indexed: Elements in a list can be accessed using their position or index (starting from 0)."
   ]
  },
  {
   "cell_type": "markdown",
   "id": "07a07e5f",
   "metadata": {},
   "source": [
    "## 4. Heterogeneous: A list can contain elements of different data types."
   ]
  },
  {
   "cell_type": "markdown",
   "id": "cc6e6120",
   "metadata": {},
   "source": [
    "# Syntax:"
   ]
  },
  {
   "cell_type": "code",
   "execution_count": 36,
   "id": "c1e4a3ef",
   "metadata": {},
   "outputs": [
    {
     "ename": "SyntaxError",
     "evalue": "invalid syntax. Perhaps you forgot a comma? (3854762257.py, line 1)",
     "output_type": "error",
     "traceback": [
      "\u001b[0;36m  Cell \u001b[0;32mIn[36], line 1\u001b[0;36m\u001b[0m\n\u001b[0;31m    to_do_list = [readingpython, handson, coding, makingnotebook, ......] #do not run this code.. it is just for example\u001b[0m\n\u001b[0m                                                                  ^\u001b[0m\n\u001b[0;31mSyntaxError\u001b[0m\u001b[0;31m:\u001b[0m invalid syntax. Perhaps you forgot a comma?\n"
     ]
    }
   ],
   "source": [
    "to_do_list = [readingpython, handson, coding, makingnotebook, ......] #do not run this code.. it is just for example"
   ]
  },
  {
   "cell_type": "code",
   "execution_count": 37,
   "id": "584d84f7",
   "metadata": {},
   "outputs": [],
   "source": [
    "# A list of integers\n",
    "numbers_list = [1, 2, 3, 4, 5]\n",
    "\n",
    "# A list of strings\n",
    "fruits_list = ['apple', 'banana', 'cherry']\n",
    "\n",
    "# A list of floats\n",
    "float_list = [1.5, 2.7, 3.14, 4.8, 5.0]\n",
    "\n",
    "# A list of booleans\n",
    "boolean_list = [True, False, True, True, False]\n",
    "\n",
    "# A mixed list\n",
    "mixed_list = [1, 'apple', 3.14, True]"
   ]
  },
  {
   "cell_type": "markdown",
   "id": "53456d8d",
   "metadata": {},
   "source": [
    "# Accessing List Elements"
   ]
  },
  {
   "cell_type": "markdown",
   "id": "2f21869f",
   "metadata": {},
   "source": [
    "## You can access individual elements in a list using indexing. Python uses zero-based indexing."
   ]
  },
  {
   "cell_type": "code",
   "execution_count": 38,
   "id": "d6a6bd73",
   "metadata": {},
   "outputs": [],
   "source": [
    "fruits_list = ['apple', 'banana', 'cherry']"
   ]
  },
  {
   "cell_type": "code",
   "execution_count": 39,
   "id": "0137a75d",
   "metadata": {},
   "outputs": [
    {
     "name": "stdout",
     "output_type": "stream",
     "text": [
      "apple\n",
      "banana\n"
     ]
    }
   ],
   "source": [
    "print(fruits_list[0])  # Output: apple\n",
    "print(fruits_list[1])  # Output: banana"
   ]
  },
  {
   "cell_type": "markdown",
   "id": "80bbb0d4",
   "metadata": {},
   "source": [
    "## Python also supports negative indexing, which allows you to access elements from the end of the list."
   ]
  },
  {
   "cell_type": "code",
   "execution_count": 40,
   "id": "f84caedd",
   "metadata": {},
   "outputs": [
    {
     "name": "stdout",
     "output_type": "stream",
     "text": [
      "cherry\n",
      "banana\n"
     ]
    }
   ],
   "source": [
    "print(fruits_list[-1])  # Output: cherry\n",
    "print(fruits_list[-2])  # Output: banana"
   ]
  },
  {
   "cell_type": "markdown",
   "id": "f8c1925f",
   "metadata": {},
   "source": [
    "## Modifying Lists\n",
    "### Changing Elements: You can modify the value of a specific element in the list."
   ]
  },
  {
   "cell_type": "code",
   "execution_count": 41,
   "id": "78104be1",
   "metadata": {},
   "outputs": [
    {
     "name": "stdout",
     "output_type": "stream",
     "text": [
      "['apple', 'blueberry', 'cherry']\n"
     ]
    }
   ],
   "source": [
    "fruits_list[1] = 'blueberry'\n",
    "print(fruits_list)  # Output: ['apple', 'blueberry', 'cherry']"
   ]
  },
  {
   "cell_type": "markdown",
   "id": "31130fa7",
   "metadata": {},
   "source": [
    "## Adding Elements:\n",
    "### Append: Adds an item to the end of the list."
   ]
  },
  {
   "cell_type": "code",
   "execution_count": 42,
   "id": "ddaf0399",
   "metadata": {},
   "outputs": [
    {
     "name": "stdout",
     "output_type": "stream",
     "text": [
      "['apple', 'blueberry', 'cherry', 'orange']\n"
     ]
    }
   ],
   "source": [
    "fruits_list.append('orange')\n",
    "print(fruits_list)  # Output: ['apple', 'blueberry', 'cherry', 'orange']"
   ]
  },
  {
   "cell_type": "markdown",
   "id": "dce0f526",
   "metadata": {},
   "source": [
    "## Insert: Adds an item at a specific position."
   ]
  },
  {
   "cell_type": "code",
   "execution_count": 43,
   "id": "564f45d2",
   "metadata": {},
   "outputs": [
    {
     "name": "stdout",
     "output_type": "stream",
     "text": [
      "['apple', 'kiwi', 'blueberry', 'cherry', 'orange']\n"
     ]
    }
   ],
   "source": [
    "fruits_list.insert(1, 'kiwi')\n",
    "print(fruits_list)  # Output: ['apple', 'kiwi', 'blueberry', 'cherry', 'orange']"
   ]
  },
  {
   "cell_type": "markdown",
   "id": "2a89697f",
   "metadata": {},
   "source": [
    "## Removing Elements:\n",
    "### Remove: Removes the first instance of the specified value."
   ]
  },
  {
   "cell_type": "code",
   "execution_count": 44,
   "id": "ffd8099f",
   "metadata": {},
   "outputs": [
    {
     "name": "stdout",
     "output_type": "stream",
     "text": [
      "['apple', 'blueberry', 'cherry', 'orange']\n"
     ]
    }
   ],
   "source": [
    "fruits_list.remove('kiwi')\n",
    "print(fruits_list)  # Output: ['apple', 'blueberry', 'cherry', 'orange']"
   ]
  },
  {
   "cell_type": "markdown",
   "id": "2b86b812",
   "metadata": {},
   "source": [
    "## Pop: Removes an element by index (default is the last element) and returns it."
   ]
  },
  {
   "cell_type": "code",
   "execution_count": 15,
   "id": "397b4c7f",
   "metadata": {},
   "outputs": [
    {
     "name": "stdout",
     "output_type": "stream",
     "text": [
      "orange\n"
     ]
    }
   ],
   "source": [
    "last_fruit = fruits_list.pop()\n",
    "print(last_fruit)  # Output: orange"
   ]
  },
  {
   "cell_type": "markdown",
   "id": "17a00a62",
   "metadata": {},
   "source": [
    "## Clear: Removes all elements from the list."
   ]
  },
  {
   "cell_type": "code",
   "execution_count": 16,
   "id": "f85955bc",
   "metadata": {},
   "outputs": [
    {
     "name": "stdout",
     "output_type": "stream",
     "text": [
      "[]\n"
     ]
    }
   ],
   "source": [
    "fruits_list.clear()\n",
    "print(fruits_list)  # Output: []"
   ]
  },
  {
   "cell_type": "markdown",
   "id": "f5e999fc",
   "metadata": {},
   "source": [
    "## Slicing Lists\n",
    "### You can access a range of elements in a list by using slicing."
   ]
  },
  {
   "cell_type": "code",
   "execution_count": 17,
   "id": "502287d6",
   "metadata": {},
   "outputs": [
    {
     "name": "stdout",
     "output_type": "stream",
     "text": [
      "[1, 2, 3]\n",
      "[0, 1, 2]\n",
      "[4, 5, 6]\n"
     ]
    }
   ],
   "source": [
    "numbers = [0, 1, 2, 3, 4, 5, 6]\n",
    "print(numbers[1:4])  # Output: [1, 2, 3]\n",
    "print(numbers[:3])   # Output: [0, 1, 2]\n",
    "print(numbers[4:])   # Output: [4, 5, 6]"
   ]
  },
  {
   "cell_type": "markdown",
   "id": "3ddbfdef",
   "metadata": {},
   "source": [
    "## Useful List Methods:\n",
    "### len(list): Returns the number of elements in the list."
   ]
  },
  {
   "cell_type": "code",
   "execution_count": 18,
   "id": "ff48a6b3",
   "metadata": {},
   "outputs": [
    {
     "name": "stdout",
     "output_type": "stream",
     "text": [
      "7\n"
     ]
    }
   ],
   "source": [
    "print(len(numbers))  # Output: 7"
   ]
  },
  {
   "cell_type": "markdown",
   "id": "c5cb3bed",
   "metadata": {},
   "source": [
    "## list.sort(): Sorts the list in ascending order."
   ]
  },
  {
   "cell_type": "code",
   "execution_count": 4,
   "id": "1aa99c79",
   "metadata": {},
   "outputs": [
    {
     "name": "stdout",
     "output_type": "stream",
     "text": [
      "[0, 1, 2, 3, 4, 5, 6]\n"
     ]
    }
   ],
   "source": [
    "numbers.sort()\n",
    "print(numbers)  # Output: [0, 1, 2, 3, 4, 5, 6]"
   ]
  },
  {
   "cell_type": "markdown",
   "id": "a28a33cb",
   "metadata": {},
   "source": [
    "## list.reverse(): Reverses the order of the list."
   ]
  },
  {
   "cell_type": "code",
   "execution_count": 5,
   "id": "1f87b106",
   "metadata": {},
   "outputs": [
    {
     "name": "stdout",
     "output_type": "stream",
     "text": [
      "[6, 5, 4, 3, 2, 1, 0]\n"
     ]
    }
   ],
   "source": [
    "numbers.reverse()\n",
    "print(numbers)  # Output: [6, 5, 4, 3, 2, 1, 0]"
   ]
  },
  {
   "cell_type": "markdown",
   "id": "94a5c2b0",
   "metadata": {},
   "source": [
    "## list.index(item): Returns the index of the first instance of an item."
   ]
  },
  {
   "cell_type": "code",
   "execution_count": 49,
   "id": "07174e51",
   "metadata": {},
   "outputs": [
    {
     "name": "stdout",
     "output_type": "stream",
     "text": [
      "0\n"
     ]
    }
   ],
   "source": [
    "print(fruits_list.index('apple'))  # Output: 1"
   ]
  },
  {
   "cell_type": "markdown",
   "id": "bfbf3fd5",
   "metadata": {},
   "source": [
    "## list.count(item): Counts the occurrences of an item in the list."
   ]
  },
  {
   "cell_type": "code",
   "execution_count": 51,
   "id": "f53acf99",
   "metadata": {},
   "outputs": [
    {
     "name": "stdout",
     "output_type": "stream",
     "text": [
      "1\n"
     ]
    }
   ],
   "source": [
    "print(fruits_list.count('cherry'))  # Output: 1"
   ]
  },
  {
   "cell_type": "code",
   "execution_count": null,
   "id": "bdcfaaa8",
   "metadata": {},
   "outputs": [],
   "source": []
  }
 ],
 "metadata": {
  "kernelspec": {
   "display_name": "Python 3 (ipykernel)",
   "language": "python",
   "name": "python3"
  },
  "language_info": {
   "codemirror_mode": {
    "name": "ipython",
    "version": 3
   },
   "file_extension": ".py",
   "mimetype": "text/x-python",
   "name": "python",
   "nbconvert_exporter": "python",
   "pygments_lexer": "ipython3",
   "version": "3.11.3"
  }
 },
 "nbformat": 4,
 "nbformat_minor": 5
}
